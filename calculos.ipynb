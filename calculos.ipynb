{
 "cells": [
  {
   "cell_type": "code",
   "execution_count": 1,
   "id": "e83c08bc",
   "metadata": {},
   "outputs": [
    {
     "data": {
      "text/plain": [
       "2.7166666666666663"
      ]
     },
     "execution_count": 1,
     "metadata": {},
     "output_type": "execute_result"
    }
   ],
   "source": [
    "1+1+1/2+1/6+1/24+1/120"
   ]
  },
  {
   "cell_type": "code",
   "execution_count": 6,
   "id": "01a779e6",
   "metadata": {},
   "outputs": [
    {
     "name": "stdout",
     "output_type": "stream",
     "text": [
      "1 1.0\n",
      "1 1.0\n",
      "2 0.5\n",
      "6 0.16666666666666666\n",
      "24 0.041666666666666664\n",
      "120 0.008333333333333333\n",
      "720 0.001388888888888889\n",
      "5040 0.0001984126984126984\n",
      "40320 2.48015873015873e-05\n",
      "362880 2.7557319223985893e-06\n",
      "3628800 2.755731922398589e-07\n",
      "2.7182818011463845\n"
     ]
    }
   ],
   "source": [
    "import math\n",
    "\n",
    "z=0 \n",
    "for i in range(11):\n",
    "    x= 1/math.factorial(i)\n",
    "    print(math.factorial(i),x)\n",
    "    z= x+z\n",
    "print(z)\n",
    "\n"
   ]
  },
  {
   "cell_type": "code",
   "execution_count": null,
   "id": "4f7c9080",
   "metadata": {},
   "outputs": [],
   "source": []
  },
  {
   "cell_type": "code",
   "execution_count": 5,
   "id": "4427681e",
   "metadata": {},
   "outputs": [
    {
     "data": {
      "text/plain": [
       "0.0005941848175651057"
      ]
     },
     "execution_count": 5,
     "metadata": {},
     "output_type": "execute_result"
    }
   ],
   "source": [
    "(2.7182818284590-2.7166666666666663)/2.7182818284590"
   ]
  },
  {
   "cell_type": "code",
   "execution_count": 8,
   "id": "df5d1722",
   "metadata": {},
   "outputs": [
    {
     "data": {
      "text/plain": [
       "1.0047891125877049e-08"
      ]
     },
     "execution_count": 8,
     "metadata": {},
     "output_type": "execute_result"
    }
   ],
   "source": [
    "(2.7182818284590-2.718281801146)/2.7182818284590"
   ]
  }
 ],
 "metadata": {
  "kernelspec": {
   "display_name": "base",
   "language": "python",
   "name": "python3"
  },
  "language_info": {
   "codemirror_mode": {
    "name": "ipython",
    "version": 3
   },
   "file_extension": ".py",
   "mimetype": "text/x-python",
   "name": "python",
   "nbconvert_exporter": "python",
   "pygments_lexer": "ipython3",
   "version": "3.12.7"
  }
 },
 "nbformat": 4,
 "nbformat_minor": 5
}
