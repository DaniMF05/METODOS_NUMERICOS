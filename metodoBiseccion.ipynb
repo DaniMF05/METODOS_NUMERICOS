{
 "cells": [
  {
   "cell_type": "code",
   "execution_count": 11,
   "id": "28a366e0",
   "metadata": {},
   "outputs": [],
   "source": [
    "def f(x:float) -> float:\n",
    "    return (x**3 - 3*x**2 + x - 1)"
   ]
  },
  {
   "cell_type": "code",
   "execution_count": 12,
   "id": "788cd127",
   "metadata": {},
   "outputs": [],
   "source": [
    "import numpy as np\n",
    "\n",
    "xs = np.linspace(-1, 4, 1000)"
   ]
  },
  {
   "cell_type": "code",
   "execution_count": 13,
   "id": "3b018632",
   "metadata": {},
   "outputs": [],
   "source": [
    "ys = []\n",
    "for x in xs:\n",
    "    ys.append(f(x))"
   ]
  },
  {
   "cell_type": "code",
   "execution_count": 14,
   "id": "6ba32092",
   "metadata": {},
   "outputs": [
    {
     "data": {
      "text/plain": [
       "<matplotlib.lines.Line2D at 0x2775c2a5cd0>"
      ]
     },
     "execution_count": 14,
     "metadata": {},
     "output_type": "execute_result"
    },
    {
     "data": {
      "image/png": "[encoded data removed]",
      "text/plain": [
       "<Figure size 640x480 with 1 Axes>"
      ]
     },
     "metadata": {},
     "output_type": "display_data"
    }
   ],
   "source": [
    "import matplotlib.pyplot as plt\n",
    "plt.plot(xs, ys, label=\"f(x)\")\n",
    "plt.xlabel(\"x\")\n",
    "plt.ylabel(\"f(x)\")\n",
    "plt.title(\"Plot of f(x)\")\n",
    "plt.grid(True)\n",
    "plt.legend()\n",
    "plt.axhline(0, color='black', lw=0.5, ls='--')\n"
   ]
  },
  {
   "cell_type": "code",
   "execution_count": 19,
   "id": "7a80e862",
   "metadata": {},
   "outputs": [
    {
     "name": "stdout",
     "output_type": "stream",
     "text": [
      "Iteración 1: a = -5.000000, b = 3.000000, c = -1.000000, f(c) = -6.000000\n",
      "Iteración 2: a = -1.000000, b = 3.000000, c = 1.000000, f(c) = -2.000000\n",
      "Iteración 3: a = 1.000000, b = 3.000000, c = 2.000000, f(c) = -3.000000\n",
      "Iteración 4: a = 2.000000, b = 3.000000, c = 2.500000, f(c) = -1.625000\n",
      "Iteración 5: a = 2.500000, b = 3.000000, c = 2.750000, f(c) = -0.140625\n",
      "Iteración 6: a = 2.750000, b = 3.000000, c = 2.875000, f(c) = 0.841797\n",
      "Iteración 7: a = 2.750000, b = 2.875000, c = 2.812500, f(c) = 0.329346\n",
      "Iteración 8: a = 2.750000, b = 2.812500, c = 2.781250, f(c) = 0.089142\n",
      "Iteración 9: a = 2.750000, b = 2.781250, c = 2.765625, f(c) = -0.027035\n",
      "Iteración 10: a = 2.765625, b = 2.781250, c = 2.773438, f(c) = 0.030729\n",
      "Iteración 11: a = 2.765625, b = 2.773438, c = 2.769531, f(c) = 0.001766\n",
      "Iteración 12: a = 2.765625, b = 2.769531, c = 2.767578, f(c) = -0.012655\n",
      "Iteración 13: a = 2.767578, b = 2.769531, c = 2.768555, f(c) = -0.005449\n",
      "Iteración 14: a = 2.768555, b = 2.769531, c = 2.769043, f(c) = -0.001843\n",
      "Iteración 15: a = 2.769043, b = 2.769531, c = 2.769287, f(c) = -0.000039\n",
      "Iteración 16: a = 2.769287, b = 2.769531, c = 2.769409, f(c) = 0.000864\n",
      "Iteración 17: a = 2.769287, b = 2.769409, c = 2.769348, f(c) = 0.000412\n",
      "Iteración 18: a = 2.769287, b = 2.769348, c = 2.769318, f(c) = 0.000187\n",
      "Iteración 19: a = 2.769287, b = 2.769318, c = 2.769302, f(c) = 0.000074\n",
      "Iteración 20: a = 2.769287, b = 2.769302, c = 2.769295, f(c) = 0.000018\n",
      "Iteración 21: a = 2.769287, b = 2.769295, c = 2.769291, f(c) = -0.000011\n",
      "Iteración 22: a = 2.769291, b = 2.769295, c = 2.769293, f(c) = 0.000004\n",
      "Iteración 23: a = 2.769291, b = 2.769293, c = 2.769292, f(c) = -0.000004\n",
      "Iteración 24: a = 2.769292, b = 2.769293, c = 2.769292, f(c) = 0.000000\n",
      "Iteración 25: a = 2.769292, b = 2.769292, c = 2.769292, f(c) = -0.000002\n",
      "Iteración 26: a = 2.769292, b = 2.769292, c = 2.769292, f(c) = -0.000001\n",
      "Iteración 27: a = 2.769292, b = 2.769292, c = 2.769292, f(c) = -0.000000\n",
      "Iteración 28: a = 2.769292, b = 2.769292, c = 2.769292, f(c) = -0.000000\n",
      "Iteración 29: a = 2.769292, b = 2.769292, c = 2.769292, f(c) = -0.000000\n",
      "Iteración 30: a = 2.769292, b = 2.769292, c = 2.769292, f(c) = -0.000000\n",
      "Iteración 31: a = 2.769292, b = 2.769292, c = 2.769292, f(c) = -0.000000\n",
      "Iteración 32: a = 2.769292, b = 2.769292, c = 2.769292, f(c) = -0.000000\n",
      "Iteración 33: a = 2.769292, b = 2.769292, c = 2.769292, f(c) = -0.000000\n",
      "Iteración 34: a = 2.769292, b = 2.769292, c = 2.769292, f(c) = -0.000000\n",
      "Iteración 35: a = 2.769292, b = 2.769292, c = 2.769292, f(c) = 0.000000\n",
      "Iteración 36: a = 2.769292, b = 2.769292, c = 2.769292, f(c) = -0.000000\n",
      "Iteración 37: a = 2.769292, b = 2.769292, c = 2.769292, f(c) = 0.000000\n",
      "Iteración 38: a = 2.769292, b = 2.769292, c = 2.769292, f(c) = 0.000000\n",
      "Iteración 39: a = 2.769292, b = 2.769292, c = 2.769292, f(c) = 0.000000\n",
      "Iteración 40: a = 2.769292, b = 2.769292, c = 2.769292, f(c) = 0.000000\n",
      "Iteración 41: a = 2.769292, b = 2.769292, c = 2.769292, f(c) = -0.000000\n",
      "Iteración 42: a = 2.769292, b = 2.769292, c = 2.769292, f(c) = 0.000000\n",
      "Iteración 43: a = 2.769292, b = 2.769292, c = 2.769292, f(c) = 0.000000\n",
      "Iteración 44: a = 2.769292, b = 2.769292, c = 2.769292, f(c) = -0.000000\n",
      "Iteración 45: a = 2.769292, b = 2.769292, c = 2.769292, f(c) = 0.000000\n",
      "Iteración 46: a = 2.769292, b = 2.769292, c = 2.769292, f(c) = 0.000000\n",
      "Iteración 47: a = 2.769292, b = 2.769292, c = 2.769292, f(c) = 0.000000\n",
      "Iteración 48: a = 2.769292, b = 2.769292, c = 2.769292, f(c) = -0.000000\n",
      "Iteración 49: a = 2.769292, b = 2.769292, c = 2.769292, f(c) = -0.000000\n",
      "Iteración 50: a = 2.769292, b = 2.769292, c = 2.769292, f(c) = 0.000000\n",
      "Iteración 51: a = 2.769292, b = 2.769292, c = 2.769292, f(c) = 0.000000\n",
      "Iteración 52: a = 2.769292, b = 2.769292, c = 2.769292, f(c) = -0.000000\n"
     ]
    },
    {
     "data": {
      "text/plain": [
       "2.7692923542386323"
      ]
     },
     "execution_count": 19,
     "metadata": {},
     "output_type": "execute_result"
    }
   ],
   "source": [
    "def f(x: float) -> float:\n",
    "    return (x**3 - 3*x**2 + x - 1)\n",
    "\n",
    "def biseccion(a: float, b: float, tol: float = 1e-15, max_iter: int = 500):\n",
    "    if f(a) * f(b) >= 0:\n",
    "        print(\"El método de bisección no es aplicable: f(a) y f(b) deben tener signos opuestos.\")\n",
    "        return None\n",
    "\n",
    "    iteracion = 0\n",
    "    while (b - a) / 2 > tol and iteracion < max_iter:\n",
    "        c = (a + b) / 2\n",
    "        fc = f(c)\n",
    "\n",
    "        print(f\"Iteración {iteracion+1}: a = {a:.6f}, b = {b:.6f}, c = {c:.6f}, f(c) = {fc:.6f}\")\n",
    "\n",
    "        if abs(fc) < tol:\n",
    "            return c\n",
    "        elif f(a) * fc < 0:\n",
    "            b = c\n",
    "        else:\n",
    "            a = c\n",
    "        iteracion += 1\n",
    "\n",
    "    return (a + b) / 2  # Valor aproximado de la raíz\n",
    "\n",
    "biseccion(-5 , 3 )"
   ]
  }
 ],
 "metadata": {
  "kernelspec": {
   "display_name": "base",
   "language": "python",
   "name": "python3"
  },
  "language_info": {
   "codemirror_mode": {
    "name": "ipython",
    "version": 3
   },
   "file_extension": ".py",
   "mimetype": "text/x-python",
   "name": "python",
   "nbconvert_exporter": "python",
   "pygments_lexer": "ipython3",
   "version": "3.12.7"
  }
 },
 "nbformat": 4,
 "nbformat_minor": 5
}
