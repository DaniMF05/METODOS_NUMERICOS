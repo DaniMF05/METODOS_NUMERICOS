{
 "cells": [
  {
   "cell_type": "code",
   "execution_count": null,
   "id": "6fb5e182",
   "metadata": {},
   "outputs": [],
   "source": [
    "# HOLA"
   ]
  },
  {
   "cell_type": "markdown",
   "id": "a195f2d5",
   "metadata": {},
   "source": [
    "# HOLA"
   ]
  }
 ],
 "metadata": {
  "language_info": {
   "name": "python"
  }
 },
 "nbformat": 4,
 "nbformat_minor": 5
}
